{
 "cells": [
  {
   "cell_type": "code",
   "execution_count": 1,
   "metadata": {},
   "outputs": [],
   "source": [
    "'''This function overwrites the content of a file by replacing matching patterns in the old file'''\n",
    "'''Date 26-09-2020'''\n",
    "'''Time 18:38'''\n",
    "from tempfile import mkstemp\n",
    "from shutil import move, copymode\n",
    "from os import fdopen, remove\n",
    "\n",
    "def replace(file_path, pattern, subst):\n",
    "    #Create temp file\n",
    "    fh, abs_path = mkstemp()\n",
    "    with fdopen(fh,'w') as new_file:\n",
    "        with open(file_path) as old_file:\n",
    "            for line in old_file:\n",
    "                new_file.write(line.replace(pattern, subst))\n",
    "    #Copy the file permissions from the old file to the new file\n",
    "    copymode(file_path, abs_path)\n",
    "    #Remove original file\n",
    "    remove(file_path)\n",
    "    #Move new file\n",
    "    move(abs_path, file_path)"
   ]
  },
  {
   "cell_type": "code",
   "execution_count": 11,
   "metadata": {},
   "outputs": [
    {
     "name": "stdout",
     "output_type": "stream",
     "text": [
      "starting...\n",
      "Done.\n"
     ]
    }
   ],
   "source": [
    "import random\n",
    "\n",
    "print(\"starting...\")  \n",
    "oldlines = list()\n",
    "newlines = list()\n",
    "with open('robot_6.world', mode='r+') as f1:\n",
    "    for line in f1:\n",
    "        new_str = \"pose [\"\n",
    "        words = line.split()\n",
    "        if (len(words) > 0 and words[0] == \"pose\"):\n",
    "            oldlines.append(line)\n",
    "            for i in range(4):\n",
    "                if (i == 2):\n",
    "                    n = 0\n",
    "                    new_str = new_str+str(n)+\" \"\n",
    "                elif(i == 3):\n",
    "                    n = random.randint(-180, 180)\n",
    "                    new_str = new_str+str(n)\n",
    "                else:\n",
    "                    n = random.randint(-12, 12)\n",
    "                    new_str = new_str+str(n)+\" \"\n",
    "            new_str = new_str + \"]\\n\"\n",
    "            newlines.append(new_str)\n",
    "for j, k in zip(oldlines, newlines):\n",
    "    replace(\"robot_6.world\", j, k)\n",
    "    \n",
    "print(\"Done.\")"
   ]
  },
  {
   "cell_type": "code",
   "execution_count": null,
   "metadata": {},
   "outputs": [],
   "source": []
  },
  {
   "cell_type": "code",
   "execution_count": null,
   "metadata": {},
   "outputs": [],
   "source": []
  },
  {
   "cell_type": "code",
   "execution_count": 25,
   "metadata": {},
   "outputs": [
    {
     "name": "stdout",
     "output_type": "stream",
     "text": [
      "starting...\n",
      "Done.\n"
     ]
    }
   ],
   "source": [
    "import random\n",
    "\n",
    "print(\"starting...\")  \n",
    "oldlines = list()\n",
    "newlines = list()\n",
    "with open('robot_3.world', mode='r+') as f1:\n",
    "    for line in f1:\n",
    "        new_str = \"pose [\"\n",
    "        words = line.split()\n",
    "        if (len(words) > 0 and words[0] == \"oil(name\"):\n",
    "            oldlines.append(line)\n",
    "            for i in range(4):\n",
    "                if (i == 2):\n",
    "                    n = 0\n",
    "                    new_str = new_str+str(n)+\" \"\n",
    "                elif(i == 3):\n",
    "                    n = random.randint(-180, 180)\n",
    "                    new_str = new_str+str(n)\n",
    "                else:\n",
    "                    n = random.randint(-12, 12)\n",
    "                    new_str = new_str+str(n)+\" \"\n",
    "            new_str = new_str + \"]\"\n",
    "            newlines.append(\"oil(name \\\"oil1\\\" \"+new_str+\")\\n\")\n",
    "for j, k in zip(oldlines, newlines):\n",
    "    replace(\"robot_3.world\", j, k)\n",
    "    #print(j+\"\\n\"+k)\n",
    "    \n",
    "print(\"Done.\")"
   ]
  },
  {
   "cell_type": "code",
   "execution_count": null,
   "metadata": {},
   "outputs": [],
   "source": []
  }
 ],
 "metadata": {
  "kernelspec": {
   "display_name": "Python 3",
   "language": "python",
   "name": "python3"
  },
  "language_info": {
   "codemirror_mode": {
    "name": "ipython",
    "version": 3
   },
   "file_extension": ".py",
   "mimetype": "text/x-python",
   "name": "python",
   "nbconvert_exporter": "python",
   "pygments_lexer": "ipython3",
   "version": "3.7.3"
  }
 },
 "nbformat": 4,
 "nbformat_minor": 2
}
